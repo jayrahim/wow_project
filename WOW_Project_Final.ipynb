{
 "cells": [
  {
   "cell_type": "markdown",
   "metadata": {},
   "source": [
    "\n",
    "# To utilize both the ipywidgets and ipyleaflet functions you must first ensure that you have them installed. (see https://ipyleaflet.readthedocs.io/en/latest/installation.html & https://ipywidgets.readthedocs.io/en/latest/user_install.html. Then use the import function for ipywidgets to get a search box that collects user input in the form of a zipcode "
   ]
  },
  {
   "cell_type": "code",
   "execution_count": 136,
   "metadata": {
    "hideCode": false,
    "scrolled": true
   },
   "outputs": [
    {
     "data": {
      "application/vnd.jupyter.widget-view+json": {
       "model_id": "b8eb09e1272549328dd3770d842ca12c",
       "version_major": 2,
       "version_minor": 0
      },
      "text/plain": [
       "Text(value='', description='Zipcode:', placeholder='')"
      ]
     },
     "metadata": {},
     "output_type": "display_data"
    }
   ],
   "source": [
    "import ipywidgets as w\n",
    "import requests\n",
    "\n",
    "zipcode_input = w.Text(\n",
    "    value='',\n",
    "    placeholder='',\n",
    "    description='Zipcode:',\n",
    "    disabled=False\n",
    ")\n",
    "zipcode_input"
   ]
  },
  {
   "cell_type": "markdown",
   "metadata": {},
   "source": [
    "# Use import function for geocoder that searches a map\n",
    "# Use import function to obtain raw json data from https://vaccinefinder.org/\n",
    "# Define the get_data_from_api function that passes a zipcode no more than 5 numbers into it which also will request an api call using https://api.findertools.org/api/swagger/\n",
    "# Parse through the raw json data to search for specific locations based on user provided zipcode and lists those vaccination locations and coordinates for that zipcode"
   ]
  },
  {
   "cell_type": "code",
   "execution_count": 143,
   "metadata": {
    "hideCode": false
   },
   "outputs": [
    {
     "data": {
      "application/vnd.jupyter.widget-view+json": {
       "model_id": "2e3dad7bfe174b14aae131a0e7727767",
       "version_major": 2,
       "version_minor": 0
      },
      "text/plain": [
       "Output()"
      ]
     },
     "metadata": {},
     "output_type": "display_data"
    }
   ],
   "source": [
    "import geocoder\n",
    "import json\n",
    "from ipyleaflet import Map, Marker, MarkerCluster, FullScreenControl, AwesomeIcon\n",
    "\n",
    "# list to hold lat and lng for centering the map \n",
    "map_centre = []\n",
    "\n",
    "# list to hold markers for marker cluster\n",
    "markers = []\n",
    "\n",
    "def get_data_from_api(zipcode):\n",
    "    if (len(zipcode) < 5):\n",
    "        print('not valid')\n",
    "    else:\n",
    "        count = 0\n",
    "        g = geocoder.osm(zipcode)\n",
    "        \n",
    "        # search radius\n",
    "        distance_search = 10\n",
    "        # lat associatd with input (zipcode)\n",
    "        lat = g.latlng[0]\n",
    "        # append lat to map_centre list\n",
    "        map_centre.append(lat)\n",
    "        # lng associatd with input (zipcode)\n",
    "        lng = g.latlng[1]\n",
    "        # append lng to map_centre list\n",
    "        map_centre.append(lng)\n",
    "        \n",
    "        # create a string using the API web-address, lat, lng and search radius and save to request_str\n",
    "        request_str = 'https://api.findertools.org/api/v1/public/providers/vaccinefinder/locations/?localization=' + str(lng) + ',' + str(lat) + '&distance=' + str(distance_search)\n",
    "        # use requests to make the API call and save output to response\n",
    "        response = requests.get(request_str)\n",
    "        # convert response to a JSON object and save in parsed\n",
    "        parsed = json.loads(response.text)\n",
    "        \n",
    "        # iterate over data in parsed['features']\n",
    "        for features in parsed[\"features\"]:\n",
    "            # only use the first 50 entries returned from the API call\n",
    "            if count == 50:\n",
    "                break\n",
    "            # save location's address and name in respective variables\n",
    "            address = features[\"properties\"][\"address\"]\n",
    "            name = features[\"properties\"][\"name\"]\n",
    "            \n",
    "            # API retunred lng, lat (should be lat THEN lng) so this must be reversed\n",
    "            lat = features[\"geometry\"][\"coordinates\"][1]\n",
    "            long = features[\"geometry\"][\"coordinates\"][0]\n",
    "            \n",
    "            # check that each entry is not null\n",
    "            if(features[\"geometry\"][\"coordinates\"] != None):\n",
    "                # create a marker using the valid entry\n",
    "                marker = Marker(location = [lat, long], title = name + ' at ' + address, icon = health_icon)\n",
    "                # append the marker to the list (markers)\n",
    "                markers.append(marker)\n",
    "                # increment count by 1\n",
    "                count = count + 1\n",
    "\n",
    "# call the function\n",
    "w.interactive_output(get_data_from_api, { 'zipcode': zipcode_input })\n"
   ]
  },
  {
   "cell_type": "markdown",
   "metadata": {},
   "source": [
    "# create and render map using data from the get_data_from_api function"
   ]
  },
  {
   "cell_type": "code",
   "execution_count": 144,
   "metadata": {
    "hideCode": false,
    "scrolled": true
   },
   "outputs": [
    {
     "data": {
      "application/vnd.jupyter.widget-view+json": {
       "model_id": "3cb78980b33d4e1cbff26167efa49532",
       "version_major": 2,
       "version_minor": 0
      },
      "text/plain": [
       "Map(center=[39.952790756651055, -82.80129294314598], controls=(ZoomControl(options=['position', 'zoom_in_text'…"
      ]
     },
     "metadata": {},
     "output_type": "display_data"
    }
   ],
   "source": [
    "\n",
    "# create a marker cluster using the list of markers created in the get_data_from_api function\n",
    "marker_cluster = MarkerCluster(markers = (markers))\n",
    "\n",
    "# icon for map markers\n",
    "health_icon = AwesomeIcon(\n",
    "    name='fa-medkit',\n",
    "    marker_color='red',\n",
    "    icon_color='white',\n",
    "    spin=True\n",
    ")\n",
    "\n",
    "# create map and set the center to be coordinates stored in map_centre \n",
    "map = Map(center = map_centre, zoom = 10)\n",
    "\n",
    "# add cluster and full screen control to the map\n",
    "map.add_layer(marker_cluster)\n",
    "map.add_control(FullScreenControl())\n",
    "\n",
    "# display map\n",
    "map"
   ]
  },
  {
   "cell_type": "code",
   "execution_count": null,
   "metadata": {},
   "outputs": [],
   "source": []
  }
 ],
 "metadata": {
  "kernelspec": {
   "display_name": "Python 3",
   "language": "python",
   "name": "python3"
  },
  "language_info": {
   "codemirror_mode": {
    "name": "ipython",
    "version": 3
   },
   "file_extension": ".py",
   "mimetype": "text/x-python",
   "name": "python",
   "nbconvert_exporter": "python",
   "pygments_lexer": "ipython3",
   "version": "3.8.3"
  }
 },
 "nbformat": 4,
 "nbformat_minor": 4
}
