{
 "cells": [
  {
   "cell_type": "code",
   "execution_count": 1,
   "metadata": {},
   "outputs": [],
   "source": [
    "# import geocoder\n",
    "# g = geocoder.osm('21211')\n",
    "# g.latlng\n",
    "# 'https://api.findertools.org/api/v1/public/providers/vaccinefinder/locations/?localization='+str(g.latlng[0])+','+str(g.latlng[1])+'&distance=10'\n"
   ]
  },
  {
   "cell_type": "code",
   "execution_count": 2,
   "metadata": {},
   "outputs": [
    {
     "data": {
      "application/vnd.jupyter.widget-view+json": {
       "model_id": "e1ea01903d2f4739a7088d689bf2a94d",
       "version_major": 2,
       "version_minor": 0
      },
      "text/plain": [
       "Text(value='', description='Zipcode:', placeholder='')"
      ]
     },
     "metadata": {},
     "output_type": "display_data"
    }
   ],
   "source": [
    "import ipywidgets as w\n",
    "import requests\n",
    "zipcode_input = w.Text(\n",
    "    value='',\n",
    "    placeholder='',\n",
    "    description='Zipcode:',\n",
    "    disabled=False\n",
    ")\n",
    "zipcode_input"
   ]
  },
  {
   "cell_type": "code",
   "execution_count": 3,
   "metadata": {},
   "outputs": [
    {
     "data": {
      "application/vnd.jupyter.widget-view+json": {
       "model_id": "f4fbe54e694e41eb9683b4793ee7d33e",
       "version_major": 2,
       "version_minor": 0
      },
      "text/plain": [
       "Output()"
      ]
     },
     "metadata": {},
     "output_type": "display_data"
    }
   ],
   "source": [
    "import geocoder\n",
    "import json\n",
    "def get_data_from_api(zipcode):\n",
    "    if (len(zipcode) < 5):\n",
    "        print('not valid')\n",
    "    else:\n",
    "        g = geocoder.osm(zipcode)\n",
    "        response = requests.get('https://api.findertools.org/api/v1/public/providers/vaccinefinder/locations/?localization='+str(g.latlng[1])+','+str(g.latlng[0])+'&distance=10')\n",
    "\n",
    "        parsed = json.loads(response.text)\n",
    "        print(parsed)\n",
    "\n",
    "w.interactive_output(get_data_from_api, { 'zipcode': zipcode_input })"
   ]
  },
  {
   "cell_type": "code",
   "execution_count": null,
   "metadata": {},
   "outputs": [],
   "source": []
  }
 ],
 "metadata": {
  "kernelspec": {
   "display_name": "Python 3",
   "language": "python",
   "name": "python3"
  },
  "language_info": {
   "codemirror_mode": {
    "name": "ipython",
    "version": 3
   },
   "file_extension": ".py",
   "mimetype": "text/x-python",
   "name": "python",
   "nbconvert_exporter": "python",
   "pygments_lexer": "ipython3",
   "version": "3.8.3"
  }
 },
 "nbformat": 4,
 "nbformat_minor": 4
}
