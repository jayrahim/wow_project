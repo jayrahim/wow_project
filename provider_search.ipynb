{
 "cells": [
  {
   "cell_type": "code",
   "execution_count": 3,
   "metadata": {},
   "outputs": [
    {
     "data": {
      "application/vnd.jupyter.widget-view+json": {
       "model_id": "979112dbe22b4e0fb299c18ff01715ad",
       "version_major": 2,
       "version_minor": 0
      },
      "text/plain": [
       "Text(value='', description='Zipcode:', placeholder='')"
      ]
     },
     "metadata": {},
     "output_type": "display_data"
    }
   ],
   "source": [
    "import ipywidgets as w\n",
    "import requests\n",
    "zipcode_input = w.Text(\n",
    "    value='',\n",
    "    placeholder='',\n",
    "    description='Zipcode:',\n",
    "    disabled=False\n",
    ")\n",
    "zipcode_input"
   ]
  },
  {
   "cell_type": "code",
   "execution_count": 4,
   "metadata": {},
   "outputs": [
    {
     "data": {
      "application/vnd.jupyter.widget-view+json": {
       "model_id": "6c8b268823cb45299f11238efb91351c",
       "version_major": 2,
       "version_minor": 0
      },
      "text/plain": [
       "Output()"
      ]
     },
     "metadata": {},
     "output_type": "display_data"
    }
   ],
   "source": [
    "import json\n",
    "def get_data_from_api(zipcode):\n",
    "    if (len(zipcode) < 5):\n",
    "        print('not valid')\n",
    "    else:\n",
    "        response = requests.get('https://api.findertools.org/api/v1/public/providers/'+zipcode)\n",
    "        parsed = json.loads(response.text)\n",
    "        print(parsed)\n",
    "\n",
    "w.interactive_output(get_data_from_api, { 'zipcode': zipcode_input })"
   ]
  },
  {
   "cell_type": "code",
   "execution_count": null,
   "metadata": {},
   "outputs": [],
   "source": []
  }
 ],
 "metadata": {
  "kernelspec": {
   "display_name": "Python 3",
   "language": "python",
   "name": "python3"
  },
  "language_info": {
   "codemirror_mode": {
    "name": "ipython",
    "version": 3
   },
   "file_extension": ".py",
   "mimetype": "text/x-python",
   "name": "python",
   "nbconvert_exporter": "python",
   "pygments_lexer": "ipython3",
   "version": "3.8.3"
  }
 },
 "nbformat": 4,
 "nbformat_minor": 4
}
