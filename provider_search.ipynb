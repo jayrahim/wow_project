{
 "cells": [
  {
   "cell_type": "code",
   "execution_count": 1,
   "metadata": {},
   "outputs": [],
   "source": [
    "# import geocoder\n",
    "# g = geocoder.osm('21211')\n",
    "# g.latlng\n",
    "# 'https://api.findertools.org/api/v1/public/providers/vaccinefinder/locations/?localization='+str(g.latlng[0])+','+str(g.latlng[1])+'&distance=10'\n"
   ]
  },
  {
   "cell_type": "code",
   "execution_count": 2,
   "metadata": {},
   "outputs": [
    {
     "data": {
      "application/vnd.jupyter.widget-view+json": {
       "model_id": "5fa5215ee67c4026bb10d24bef3637e5",
       "version_major": 2,
       "version_minor": 0
      },
      "text/plain": [
       "Text(value='', description='Zipcode:', placeholder='')"
      ]
     },
     "metadata": {},
     "output_type": "display_data"
    }
   ],
   "source": [
    "import ipywidgets as w\n",
    "import requests\n",
    "zipcode_input = w.Text(\n",
    "    value='',\n",
    "    placeholder='',\n",
    "    description='Zipcode:',\n",
    "    disabled=False\n",
    ")\n",
    "zipcode_input"
   ]
  },
  {
   "cell_type": "code",
   "execution_count": 6,
   "metadata": {
    "scrolled": true
   },
   "outputs": [
    {
     "data": {
      "application/vnd.jupyter.widget-view+json": {
       "model_id": "d3db09a91db24c58ac31df7c0fbcf0c4",
       "version_major": 2,
       "version_minor": 0
      },
      "text/plain": [
       "Output()"
      ]
     },
     "metadata": {},
     "output_type": "display_data"
    }
   ],
   "source": [
    "import geocoder\n",
    "import json\n",
    "def get_data_from_api(zipcode):\n",
    "    if (len(zipcode) < 5):\n",
    "        print('not valid')\n",
    "    else:\n",
    "        g = geocoder.osm(zipcode)\n",
    "        response = requests.get('https://api.findertools.org/api/v1/public/providers/vaccinefinder/locations/?localization='+str(g.latlng[1])+','+str(g.latlng[0])+'&distance=5')\n",
    "\n",
    "        parsed = json.loads(response.text)\n",
    "        for features in parsed[\"features\"]:\n",
    "            print(features[\"geometry\"][\"coordinates\"])\n",
    "            print(features[\"properties\"][\"name\"])\n",
    "#         print(parsed[\"features\"][0][\"geometry\"][\"coordinates\"])\n",
    "\n",
    "w.interactive_output(get_data_from_api, { 'zipcode': zipcode_input })"
   ]
  },
  {
   "cell_type": "code",
   "execution_count": null,
   "metadata": {},
   "outputs": [],
   "source": []
  }
 ],
 "metadata": {
  "kernelspec": {
   "display_name": "Python 3",
   "language": "python",
   "name": "python3"
  },
  "language_info": {
   "codemirror_mode": {
    "name": "ipython",
    "version": 3
   },
   "file_extension": ".py",
   "mimetype": "text/x-python",
   "name": "python",
   "nbconvert_exporter": "python",
   "pygments_lexer": "ipython3",
   "version": "3.8.3"
  }
 },
 "nbformat": 4,
 "nbformat_minor": 4
}
